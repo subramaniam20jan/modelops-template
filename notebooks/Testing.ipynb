{
 "cells": [
  {
   "cell_type": "code",
   "execution_count": 5,
   "id": "88404065-217d-4e84-8e78-d919a25c515f",
   "metadata": {},
   "outputs": [],
   "source": [
    "# Add the root of the repo to the sys path\n",
    "import sys\n",
    "\n",
    "sys.path[0] = \"../\""
   ]
  },
  {
   "cell_type": "code",
   "execution_count": 1,
   "id": "3532d3a6-04d2-4925-914b-b65fbd3e9166",
   "metadata": {},
   "outputs": [],
   "source": [
    "import yaml"
   ]
  },
  {
   "cell_type": "code",
   "execution_count": 12,
   "id": "18f5e521-4d19-4fe3-bb4c-a77c92618d53",
   "metadata": {},
   "outputs": [],
   "source": [
    "with open(\"../workflow_conf.yaml\", \"r\") as file:\n",
    "    loaded = yaml.safe_load(file)"
   ]
  },
  {
   "cell_type": "code",
   "execution_count": 14,
   "id": "df2aa8ba-f192-4036-99b9-6b74bf4e1d40",
   "metadata": {},
   "outputs": [
    {
     "data": {
      "text/plain": [
       "{'model_name': 'test', 'experiment_name': 'test', 'logging_level': 'INFO'}"
      ]
     },
     "execution_count": 14,
     "metadata": {},
     "output_type": "execute_result"
    }
   ],
   "source": [
    "loaded[\"general\"]"
   ]
  },
  {
   "cell_type": "code",
   "execution_count": 8,
   "id": "f818177e-ee2a-4b94-96ce-5472f683f04e",
   "metadata": {},
   "outputs": [],
   "source": [
    "def load_config(config_file: str, source: str, grid_index=-1):\n",
    "    print(config_file)\n",
    "    with open(config_file, \"r\") as file:\n",
    "        loaded_config = yaml.safe_load(config_file)\n",
    "        print(loaded_config)\n",
    "        config_subset = loaded_config[source]\n",
    "\n",
    "        if grid_index == -1:\n",
    "            if \"final\" in config_subset:\n",
    "                config_to_return = config_subset[\"final\"]\n",
    "            else:\n",
    "                config_to_return = config_subset\n",
    "        else:\n",
    "            config_to_return = config_subset[\"grid\"][grid_index]\n",
    "\n",
    "        return config_to_return"
   ]
  },
  {
   "cell_type": "code",
   "execution_count": 10,
   "id": "e3f9cb5a-7bdc-42d1-9ea8-ca220a9d68fe",
   "metadata": {},
   "outputs": [],
   "source": [
    "import logging"
   ]
  },
  {
   "cell_type": "code",
   "execution_count": null,
   "id": "cdb562c8-87e8-4d12-8145-644b66671508",
   "metadata": {},
   "outputs": [],
   "source": [
    "logging.config.dictConfig"
   ]
  },
  {
   "cell_type": "code",
   "execution_count": 9,
   "id": "5e668e55-5d11-4e6c-8ee1-605212b73304",
   "metadata": {},
   "outputs": [
    {
     "name": "stdout",
     "output_type": "stream",
     "text": [
      "../workflow_conf.yaml\n",
      "../workflow_conf.yaml\n"
     ]
    },
    {
     "ename": "TypeError",
     "evalue": "string indices must be integers",
     "output_type": "error",
     "traceback": [
      "\u001b[0;31m---------------------------------------------------------------------------\u001b[0m",
      "\u001b[0;31mTypeError\u001b[0m                                 Traceback (most recent call last)",
      "Input \u001b[0;32mIn [9]\u001b[0m, in \u001b[0;36m<cell line: 1>\u001b[0;34m()\u001b[0m\n\u001b[0;32m----> 1\u001b[0m \u001b[43mload_config\u001b[49m\u001b[43m(\u001b[49m\u001b[38;5;124;43m\"\u001b[39;49m\u001b[38;5;124;43m../workflow_conf.yaml\u001b[39;49m\u001b[38;5;124;43m\"\u001b[39;49m\u001b[43m,\u001b[49m\u001b[43m \u001b[49m\u001b[38;5;124;43m\"\u001b[39;49m\u001b[38;5;124;43mgeneral\u001b[39;49m\u001b[38;5;124;43m\"\u001b[39;49m\u001b[43m)\u001b[49m\n",
      "Input \u001b[0;32mIn [8]\u001b[0m, in \u001b[0;36mload_config\u001b[0;34m(config_file, source, grid_index)\u001b[0m\n\u001b[1;32m      4\u001b[0m loaded_config \u001b[38;5;241m=\u001b[39m yaml\u001b[38;5;241m.\u001b[39msafe_load(config_file)\n\u001b[1;32m      5\u001b[0m \u001b[38;5;28mprint\u001b[39m(loaded_config)\n\u001b[0;32m----> 6\u001b[0m config_subset \u001b[38;5;241m=\u001b[39m \u001b[43mloaded_config\u001b[49m\u001b[43m[\u001b[49m\u001b[43msource\u001b[49m\u001b[43m]\u001b[49m\n\u001b[1;32m      8\u001b[0m \u001b[38;5;28;01mif\u001b[39;00m grid_index \u001b[38;5;241m==\u001b[39m \u001b[38;5;241m-\u001b[39m\u001b[38;5;241m1\u001b[39m:\n\u001b[1;32m      9\u001b[0m     \u001b[38;5;28;01mif\u001b[39;00m \u001b[38;5;124m\"\u001b[39m\u001b[38;5;124mfinal\u001b[39m\u001b[38;5;124m\"\u001b[39m \u001b[38;5;129;01min\u001b[39;00m config_subset:\n",
      "\u001b[0;31mTypeError\u001b[0m: string indices must be integers"
     ]
    }
   ],
   "source": [
    "load_config(\"../workflow_conf.yaml\", \"general\")"
   ]
  },
  {
   "cell_type": "code",
   "execution_count": null,
   "id": "52f7d164-f431-47f9-b61f-d37b46f0321f",
   "metadata": {},
   "outputs": [],
   "source": []
  }
 ],
 "metadata": {
  "kernelspec": {
   "display_name": "Python 3 (ipykernel)",
   "language": "python",
   "name": "python3"
  },
  "language_info": {
   "codemirror_mode": {
    "name": "ipython",
    "version": 3
   },
   "file_extension": ".py",
   "mimetype": "text/x-python",
   "name": "python",
   "nbconvert_exporter": "python",
   "pygments_lexer": "ipython3",
   "version": "3.10.5"
  }
 },
 "nbformat": 4,
 "nbformat_minor": 5
}
