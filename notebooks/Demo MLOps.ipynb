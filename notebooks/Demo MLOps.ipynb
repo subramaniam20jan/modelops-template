{
 "cells": [
  {
   "cell_type": "markdown",
   "id": "1b29d07d-1790-47fa-9fe2-e5c60cf6f3a9",
   "metadata": {},
   "source": [
    "## Demo MLOps\n",
    "\n",
    "This notebook can be used to demonstrate the use of mlflow pipelines and mlflow server as a benchmarking tool and as an artifact repository."
   ]
  },
  {
   "cell_type": "code",
   "execution_count": 1,
   "id": "bd2148de-8671-40e8-a3fc-69c98f02d314",
   "metadata": {},
   "outputs": [
    {
     "ename": "ModuleNotFoundError",
     "evalue": "No module named 'mlflow'",
     "output_type": "error",
     "traceback": [
      "\u001b[0;31m---------------------------------------------------------------------------\u001b[0m",
      "\u001b[0;31mModuleNotFoundError\u001b[0m                       Traceback (most recent call last)",
      "Input \u001b[0;32mIn [1]\u001b[0m, in \u001b[0;36m<cell line: 1>\u001b[0;34m()\u001b[0m\n\u001b[0;32m----> 1\u001b[0m \u001b[38;5;28;01mimport\u001b[39;00m \u001b[38;5;21;01mmlflow\u001b[39;00m\n\u001b[1;32m      2\u001b[0m \u001b[38;5;28;01mimport\u001b[39;00m \u001b[38;5;21;01mos\u001b[39;00m\n",
      "\u001b[0;31mModuleNotFoundError\u001b[0m: No module named 'mlflow'"
     ]
    }
   ],
   "source": [
    "import mlflow\n",
    "import os"
   ]
  },
  {
   "cell_type": "code",
   "execution_count": 8,
   "id": "5abc138e-3b8c-446e-9b20-e30fa6b5e1e6",
   "metadata": {},
   "outputs": [],
   "source": [
    "mlflow_host = f\"http://{os.environ['MLFLOW_SVC_SERVICE_HOST']}:{os.environ['MLFLOW_SVC_SERVICE_PORT']}\"\n",
    "mlflow.set_tracking_uri(mlflow_host)"
   ]
  },
  {
   "cell_type": "code",
   "execution_count": 11,
   "id": "89f43d70-393b-4f7b-b70b-d3ddabbe09dc",
   "metadata": {},
   "outputs": [
    {
     "name": "stderr",
     "output_type": "stream",
     "text": [
      "2022/07/18 13:00:44 INFO mlflow.tracking.fluent: Experiment with name 'test_exp' does not exist. Creating a new experiment.\n"
     ]
    },
    {
     "data": {
      "text/plain": [
       "<Experiment: artifact_location='./mlruns/1', experiment_id='1', lifecycle_stage='active', name='test_exp', tags={}>"
      ]
     },
     "execution_count": 11,
     "metadata": {},
     "output_type": "execute_result"
    }
   ],
   "source": [
    "mlflow.set_experiment(\"test_exp\")"
   ]
  },
  {
   "cell_type": "code",
   "execution_count": 12,
   "id": "5bb9a242-82be-4e70-8f81-d03c5df783ac",
   "metadata": {},
   "outputs": [],
   "source": [
    "with mlflow.start_run():\n",
    "    mlflow.log_param(\"test_param\", \"test_val\")"
   ]
  },
  {
   "cell_type": "code",
   "execution_count": null,
   "id": "9d68d606-95e2-4b24-a04f-a1072f04688b",
   "metadata": {},
   "outputs": [],
   "source": []
  },
  {
   "cell_type": "code",
   "execution_count": null,
   "id": "455e8d24-d0fb-4312-add3-04b09775de42",
   "metadata": {},
   "outputs": [],
   "source": []
  },
  {
   "cell_type": "code",
   "execution_count": null,
   "id": "7a4afd5f-7d05-4dc4-b5f8-6c40c3a268d9",
   "metadata": {},
   "outputs": [],
   "source": [
    "import os\n",
    "from mlflow.pipelines import Pipeline\n",
    "from mlflow.pyfunc import PyFuncModel\n",
    "\n",
    "os.chdir(\"~/mlp-regression-template\")\n",
    "regression_pipeline = Pipeline(profile=\"local\")\n",
    "# Run the full pipeline\n",
    "regression_pipeline.run()\n",
    "# Inspect the model training results\n",
    "regression_pipeline.inspect(step=\"train\")\n",
    "# Load the trained model\n",
    "regression_model_pipeline: PyFuncModel = regression_pipeline.get_artifact(\"model\")\n"
   ]
  }
 ],
 "metadata": {
  "kernelspec": {
   "display_name": "Python in Docker",
   "language": "python",
   "name": "python_in_docker"
  },
  "language_info": {
   "codemirror_mode": {
    "name": "ipython",
    "version": 3
   },
   "file_extension": ".py",
   "mimetype": "text/x-python",
   "name": "python",
   "nbconvert_exporter": "python",
   "pygments_lexer": "ipython3",
   "version": "3.10.5"
  }
 },
 "nbformat": 4,
 "nbformat_minor": 5
}
