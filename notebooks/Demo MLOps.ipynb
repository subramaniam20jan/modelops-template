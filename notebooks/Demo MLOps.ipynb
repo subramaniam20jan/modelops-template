{
 "cells": [
  {
   "cell_type": "markdown",
   "id": "1b29d07d-1790-47fa-9fe2-e5c60cf6f3a9",
   "metadata": {},
   "source": [
    "## Demo MLOps\n",
    "\n",
    "This notebook can be used to demonstrate the use of mlflow pipelines and mlflow server as a benchmarking tool and as an artifact repository."
   ]
  },
  {
   "cell_type": "code",
   "execution_count": 1,
   "id": "bd2148de-8671-40e8-a3fc-69c98f02d314",
   "metadata": {},
   "outputs": [],
   "source": [
    "import mlflow\n",
    "import os"
   ]
  },
  {
   "cell_type": "code",
   "execution_count": 2,
   "id": "5abc138e-3b8c-446e-9b20-e30fa6b5e1e6",
   "metadata": {},
   "outputs": [],
   "source": [
    "mlflow_host = f\"http://{os.environ['MLFLOW_SVC_SERVICE_HOST']}:{os.environ['MLFLOW_SVC_SERVICE_PORT']}\"\n",
    "mlflow.set_tracking_uri(mlflow_host)\n",
    "os.environ[\"DOCKER_HOST\"] = os.environ[\"CONTAINER_HOST\"]"
   ]
  },
  {
   "cell_type": "markdown",
   "id": "08e77350-cc24-41af-83e2-a663507c43d7",
   "metadata": {},
   "source": [
    "### Basic MLFlow testing"
   ]
  },
  {
   "cell_type": "code",
   "execution_count": 13,
   "id": "89f43d70-393b-4f7b-b70b-d3ddabbe09dc",
   "metadata": {},
   "outputs": [
    {
     "data": {
      "text/plain": [
       "'4'"
      ]
     },
     "execution_count": 13,
     "metadata": {},
     "output_type": "execute_result"
    }
   ],
   "source": [
    "# mlflow.create_experiment(\"test_s3_artifact_store\", artifact_location=\"s3://adamatics-adalab-staging-container-registry/mlruns\")"
   ]
  },
  {
   "cell_type": "code",
   "execution_count": 6,
   "id": "5bb9a242-82be-4e70-8f81-d03c5df783ac",
   "metadata": {
    "tags": []
   },
   "outputs": [],
   "source": [
    "mlflow.set_experiment(\"test_s3_artifact_store\")\n",
    "with mlflow.start_run():\n",
    "    mlflow.log_param(\"test_param\", \"test_val\")\n",
    "    mlflow.log_artifact(\"/home/subu/git/modelops-template/poetry.lock\")"
   ]
  },
  {
   "cell_type": "markdown",
   "id": "e5cdc45c-a75b-4792-8943-a4014ce2ee4f",
   "metadata": {},
   "source": [
    "### Running the project"
   ]
  },
  {
   "cell_type": "code",
   "execution_count": 6,
   "id": "1c63037b-1e06-4df8-a85f-9898ecf7ed85",
   "metadata": {},
   "outputs": [],
   "source": [
    "# Add the root of the repo to the sys path\n",
    "import sys\n",
    "\n",
    "sys.path[0] = \"../\""
   ]
  },
  {
   "cell_type": "code",
   "execution_count": 13,
   "id": "a2016bc9-c92f-4616-865a-3e57ca907bd7",
   "metadata": {},
   "outputs": [
    {
     "name": "stderr",
     "output_type": "stream",
     "text": [
      "2022/07/20 07:41:12 INFO mlflow.projects.utils: === Created directory /tmp/tmp_uckgxze for downloading remote URIs passed to arguments of type 'path' ===\n",
      "2022/07/20 07:41:12 INFO mlflow.projects.backend.local: === Running command 'python worker.py echo test' in run with ID 'cfc3d17f937e4f7a8177e1eadcc5b0ec' === \n",
      "2022/07/20 07:41:12 INFO mlflow.projects: === Run (ID 'cfc3d17f937e4f7a8177e1eadcc5b0ec') succeeded ===\n"
     ]
    },
    {
     "data": {
      "text/plain": [
       "<mlflow.projects.submitted_run.LocalSubmittedRun at 0x7f996e8eb6d0>"
      ]
     },
     "execution_count": 13,
     "metadata": {},
     "output_type": "execute_result"
    }
   ],
   "source": [
    "mlflow.run(\"../\",\n",
    "           parameters={},\n",
    "           env_manager=\"local\",\n",
    "           synchronous=True)"
   ]
  },
  {
   "cell_type": "code",
   "execution_count": 5,
   "id": "be8bbc5b-b200-4b15-9c46-220a34df10eb",
   "metadata": {
    "tags": []
   },
   "outputs": [
    {
     "name": "stderr",
     "output_type": "stream",
     "text": [
      "2022/07/22 10:40:24 INFO mlflow.projects.docker: === Building docker image mlops_project:5299c87 ===\n",
      "2022/07/22 10:40:32 INFO mlflow.projects.utils: === Created directory /tmp/tmppx94qrb0 for downloading remote URIs passed to arguments of type 'path' ===\n",
      "2022/07/22 10:40:32 INFO mlflow.projects.backend.local: === Running command 'docker run --rm -e MLFLOW_RUN_ID=f832fab6705f448698fec335d2e772ef -e MLFLOW_TRACKING_URI=http://10.100.55.198:5000 -e MLFLOW_EXPERIMENT_ID=4 docker.io/library/mlops_project:5299c87 python worker.py --text test' in run with ID 'f832fab6705f448698fec335d2e772ef' === \n",
      "2022/07/22 10:40:32 INFO mlflow.projects: === Run (ID 'f832fab6705f448698fec335d2e772ef') succeeded ===\n"
     ]
    },
    {
     "name": "stdout",
     "output_type": "stream",
     "text": [
      "Hello test\n"
     ]
    },
    {
     "data": {
      "text/plain": [
       "<mlflow.projects.submitted_run.LocalSubmittedRun at 0x7f96560f1d50>"
      ]
     },
     "execution_count": 5,
     "metadata": {},
     "output_type": "execute_result"
    }
   ],
   "source": [
    "# Try running with docker\n",
    "mlflow.run(\"../\",\n",
    "           parameters={},\n",
    "          experiment_name=\"test_s3_artifact_store\")"
   ]
  },
  {
   "cell_type": "code",
   "execution_count": null,
   "id": "f54864dd-b713-4380-a9b5-23c686c36048",
   "metadata": {},
   "outputs": [],
   "source": []
  }
 ],
 "metadata": {
  "kernelspec": {
   "display_name": "Python 3 (ipykernel)",
   "language": "python",
   "name": "python3"
  },
  "language_info": {
   "codemirror_mode": {
    "name": "ipython",
    "version": 3
   },
   "file_extension": ".py",
   "mimetype": "text/x-python",
   "name": "python",
   "nbconvert_exporter": "python",
   "pygments_lexer": "ipython3",
   "version": "3.10.5"
  }
 },
 "nbformat": 4,
 "nbformat_minor": 5
}
