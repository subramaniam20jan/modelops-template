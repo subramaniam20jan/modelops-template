{
 "cells": [
  {
   "cell_type": "markdown",
   "id": "27cc8aee-bf78-47d9-b6cd-0be818d86f6c",
   "metadata": {},
   "source": [
    "# Run workflow using MLFlow\n",
    "\n",
    "The workflow consists of an ETL and a Train part."
   ]
  },
  {
   "cell_type": "code",
   "execution_count": null,
   "id": "8110be91-359c-429d-b5a8-e77ce913a0e8",
   "metadata": {},
   "outputs": [],
   "source": [
    "# Add the root of the repo to the sys path\n",
    "import sys\n",
    "\n",
    "sys.path[0] = \"../\""
   ]
  },
  {
   "cell_type": "code",
   "execution_count": null,
   "id": "355b835d-7f8d-47cd-b1af-e0caeadedd20",
   "metadata": {},
   "outputs": [],
   "source": [
    "import os\n",
    "import mlflow\n",
    "import core.mlflow_helper as mhelper\n",
    "from core.util import load_config\n",
    "from core.pandas_helper import load_pandas_df"
   ]
  },
  {
   "cell_type": "code",
   "execution_count": null,
   "id": "45338529-ca15-4964-9746-6b5d259d8892",
   "metadata": {},
   "outputs": [],
   "source": [
    "# Setup the remote tracking server\n",
    "general_conf = load_config(\"../workflow_conf.yaml\", \"general\")\n",
    "mhelper.set_remote_tracking(general_conf[\"experiment_name\"])"
   ]
  },
  {
   "cell_type": "markdown",
   "id": "055698b9-80cc-4c4e-8bfd-b49e4c55ef10",
   "metadata": {},
   "source": [
    "### Run ETL"
   ]
  },
  {
   "cell_type": "code",
   "execution_count": null,
   "id": "c7dc1d82-6dff-49f3-8488-c353a6ca13fa",
   "metadata": {
    "tags": []
   },
   "outputs": [],
   "source": [
    "mlflow.run(\n",
    "    \"../\",\n",
    "    entry_point=\"etl\",\n",
    "    env_manager=\"local\",\n",
    "    parameters={},\n",
    ")"
   ]
  },
  {
   "cell_type": "markdown",
   "id": "4ac5d6d4-7ecc-42d8-87e2-21b190cb6439",
   "metadata": {},
   "source": [
    "### Run training"
   ]
  },
  {
   "cell_type": "code",
   "execution_count": null,
   "id": "de0b06bf-e6df-446e-aab4-226b3bbf650c",
   "metadata": {},
   "outputs": [],
   "source": [
    "mlflow.run(\n",
    "    \"../\",\n",
    "    entry_point=\"train\",\n",
    "    parameters={\"input_data_run_id_arg\":\"a843a2f403e24fb5ad3ea88d4da4b323\"},\n",
    "    synchronous=False,\n",
    ")"
   ]
  },
  {
   "cell_type": "code",
   "execution_count": null,
   "id": "cfa60bd4-8c9f-46b1-b5a5-323b7871cdfe",
   "metadata": {},
   "outputs": [],
   "source": []
  }
 ],
 "metadata": {
  "kernelspec": {
   "display_name": "Modelops env",
   "language": "python",
   "name": "modelops"
  },
  "language_info": {
   "codemirror_mode": {
    "name": "ipython",
    "version": 3
   },
   "file_extension": ".py",
   "mimetype": "text/x-python",
   "name": "python",
   "nbconvert_exporter": "python",
   "pygments_lexer": "ipython3",
   "version": "3.10.5"
  }
 },
 "nbformat": 4,
 "nbformat_minor": 5
}
