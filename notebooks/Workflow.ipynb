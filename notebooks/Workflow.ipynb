{
 "cells": [
  {
   "cell_type": "code",
   "execution_count": 1,
   "id": "8110be91-359c-429d-b5a8-e77ce913a0e8",
   "metadata": {},
   "outputs": [],
   "source": [
    "# Add the root of the repo to the sys path\n",
    "import sys\n",
    "\n",
    "sys.path[0] = \"../\""
   ]
  },
  {
   "cell_type": "code",
   "execution_count": 5,
   "id": "355b835d-7f8d-47cd-b1af-e0caeadedd20",
   "metadata": {},
   "outputs": [],
   "source": [
    "import os\n",
    "import mlflow\n",
    "import core.mlflow_helper as mhelper\n",
    "from core.util import load_config\n",
    "from core.pandas_helper import load_pandas_df"
   ]
  },
  {
   "cell_type": "code",
   "execution_count": 3,
   "id": "45338529-ca15-4964-9746-6b5d259d8892",
   "metadata": {},
   "outputs": [
    {
     "data": {
      "text/plain": [
       "{'model_name': 'test',\n",
       " 'experiment_name': 'test',\n",
       " 'log_config': {'ml_workflow': {'level': 'INFO'}, 'root': {'level': 'INFO'}}}"
      ]
     },
     "execution_count": 3,
     "metadata": {},
     "output_type": "execute_result"
    }
   ],
   "source": [
    "general_conf = load_config(\"../workflow_conf.yaml\", \"general\")\n",
    "general_conf"
   ]
  },
  {
   "cell_type": "code",
   "execution_count": 4,
   "id": "f2d772a4-456d-435b-89f4-0c79338b395b",
   "metadata": {},
   "outputs": [],
   "source": [
    "mhelper.set_remote_tracking(general_conf[\"experiment_name\"])"
   ]
  },
  {
   "cell_type": "markdown",
   "id": "055698b9-80cc-4c4e-8bfd-b49e4c55ef10",
   "metadata": {},
   "source": [
    "### Run ETL"
   ]
  },
  {
   "cell_type": "code",
   "execution_count": 27,
   "id": "c7dc1d82-6dff-49f3-8488-c353a6ca13fa",
   "metadata": {},
   "outputs": [
    {
     "name": "stderr",
     "output_type": "stream",
     "text": [
      "2022/07/29 13:51:08 INFO mlflow.projects.docker: === Building docker image mlops_project:522e84f ===\n",
      "2022/07/29 13:52:29 INFO mlflow.projects.utils: === Created directory /tmp/tmpmr4qy1md for downloading remote URIs passed to arguments of type 'path' ===\n",
      "2022/07/29 13:52:29 INFO mlflow.projects.backend.local: === Running command 'docker run --rm -v /home/subu/.aws:/.aws -e MLFLOW_RUN_ID=24d0484e81294f1899a06416b1a6a04e -e MLFLOW_TRACKING_URI=http://10.100.55.198:5000 -e MLFLOW_EXPERIMENT_ID=5 docker.io/library/mlops_project:522e84f python workflow_runner.py etl --no-run-on-delta --config-grid-index -1' in run with ID '24d0484e81294f1899a06416b1a6a04e' === \n"
     ]
    },
    {
     "name": "stdout",
     "output_type": "stream",
     "text": [
      "Performing ETL\n",
      "{'version': 1, 'disable_existing_loggers': False, 'formatters': {'default': {'format': '%(asctime)s %(levelname)-8s %(name)-15s %(message)s', 'datefmt': '%Y-%m-%d %H:%M:%S'}, 'simple': {'format': '%(levelname)s %(message)s'}}, 'handlers': {'console': {'level': 'DEBUG', 'class': 'logging.StreamHandler', 'formatter': 'default'}}, 'loggers': {'ml_workflow': {'propagate': False, 'handlers': ['console'], 'level': 'INFO'}, 'root': {'level': 'INFO'}}}\n",
      "Getting all URLs\n",
      "Loading URL content\n"
     ]
    },
    {
     "name": "stderr",
     "output_type": "stream",
     "text": [
      "100%|██████████| 116/116 [00:00<00:00, 280749.72it/s]\n",
      "100%|██████████| 116/116 [00:59<00:00,  1.95it/s]\n"
     ]
    },
    {
     "name": "stdout",
     "output_type": "stream",
     "text": [
      "Error occured in URL https://www.boligsiden.dk/postnummer/1500/solgte/ejerlejlighed?sortAscending=true&registrationTypes=normal&areaMin=40&areaMax=50&yearSoldFrom=1993&yearSoldTo=1994\n"
     ]
    },
    {
     "name": "stderr",
     "output_type": "stream",
     "text": [
      "2022/07/29 13:53:34 INFO mlflow.projects: === Run (ID '24d0484e81294f1899a06416b1a6a04e') succeeded ===\n"
     ]
    },
    {
     "data": {
      "text/plain": [
       "<mlflow.projects.submitted_run.LocalSubmittedRun at 0x7fb2ffa120b0>"
      ]
     },
     "execution_count": 27,
     "metadata": {},
     "output_type": "execute_result"
    }
   ],
   "source": [
    "# Try running with docker\n",
    "mlflow.run(\n",
    "    \"../\",\n",
    "    entry_point=\"etl\",\n",
    "    env_manager=\"local\",\n",
    "    parameters={},\n",
    ")"
   ]
  },
  {
   "cell_type": "markdown",
   "id": "4ac5d6d4-7ecc-42d8-87e2-21b190cb6439",
   "metadata": {},
   "source": [
    "### Run training"
   ]
  },
  {
   "cell_type": "code",
   "execution_count": null,
   "id": "de0b06bf-e6df-446e-aab4-226b3bbf650c",
   "metadata": {},
   "outputs": [],
   "source": [
    "# Try running with docker\n",
    "mlflow.run(\n",
    "    \"../\",\n",
    "    entry_point=\"train\",\n",
    "    parameters={},\n",
    ")"
   ]
  },
  {
   "cell_type": "code",
   "execution_count": null,
   "id": "52e21afe-86ab-4c73-8ef4-a82d7e06c1d8",
   "metadata": {},
   "outputs": [],
   "source": []
  }
 ],
 "metadata": {
  "kernelspec": {
   "display_name": "Custom env",
   "language": "python",
   "name": "modelops"
  },
  "language_info": {
   "codemirror_mode": {
    "name": "ipython",
    "version": 3
   },
   "file_extension": ".py",
   "mimetype": "text/x-python",
   "name": "python",
   "nbconvert_exporter": "python",
   "pygments_lexer": "ipython3",
   "version": "3.10.5"
  }
 },
 "nbformat": 4,
 "nbformat_minor": 5
}
