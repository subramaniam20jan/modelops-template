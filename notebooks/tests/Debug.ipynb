{
 "cells": [
  {
   "cell_type": "code",
   "execution_count": 1,
   "id": "ecb5ae7b-27d7-4926-aaf8-1c055f29a3be",
   "metadata": {},
   "outputs": [],
   "source": [
    "# Add the root of the repo to the sys path\n",
    "import sys\n",
    "\n",
    "sys.path[0] = \"../\""
   ]
  },
  {
   "cell_type": "code",
   "execution_count": 2,
   "id": "41ebb8dc-f78d-4f96-bf88-84a3e0ad289a",
   "metadata": {},
   "outputs": [],
   "source": [
    "from core.pandas_helper import load_pandas_df\n",
    "import steps.model_helper as mhelper\n",
    "from core.util import load_config"
   ]
  },
  {
   "cell_type": "code",
   "execution_count": 3,
   "id": "4419a5f9-824e-44a3-89a4-7d07bcd2eabb",
   "metadata": {},
   "outputs": [
    {
     "data": {
      "text/plain": [
       "{'seed': 42,\n",
       " 'target_name': 'perAreaPrice',\n",
       " 'feature_list': ['floor', 'weightedArea', 'apt_size_fine', 'lat', 'lon']}"
      ]
     },
     "execution_count": 3,
     "metadata": {},
     "output_type": "execute_result"
    }
   ],
   "source": [
    "input_data_run_id = \"231159897b2341e4883c1ffcd73d3474\"\n",
    "config = load_config(\"../workflow_conf.yaml\", \"train\")\n",
    "config"
   ]
  },
  {
   "cell_type": "code",
   "execution_count": 4,
   "id": "9cef76a9-af18-48a4-b38c-bd1ef353377d",
   "metadata": {},
   "outputs": [],
   "source": [
    "# Read the input datasets\n",
    "dataset = load_pandas_df(run_id=input_data_run_id)\n",
    "\n",
    "# Isolate target\n",
    "target = mhelper.get_target(raw_dataset=dataset, config=config)\n",
    "\n",
    "dataset = mhelper.drop_target(dataset, config)"
   ]
  },
  {
   "cell_type": "code",
   "execution_count": 5,
   "id": "3d735112-1b3b-432d-b7ff-37735d3e35b8",
   "metadata": {},
   "outputs": [],
   "source": [
    "# Subselect features\n",
    "dataset = mhelper.subselect_features(dataset, config)\n",
    "\n",
    "# Split dataset\n",
    "split_dataset = mhelper.split_dataset(dataset, target, config=config)"
   ]
  },
  {
   "cell_type": "code",
   "execution_count": 12,
   "id": "552f6c89-f015-4563-a8e7-cb2afb8f5e79",
   "metadata": {},
   "outputs": [
    {
     "data": {
      "text/plain": [
       "666"
      ]
     },
     "execution_count": 12,
     "metadata": {},
     "output_type": "execute_result"
    }
   ],
   "source": [
    "len(split_dataset[\"target_train\"])"
   ]
  },
  {
   "cell_type": "code",
   "execution_count": 11,
   "id": "9f538bc6-e206-4b34-b996-5df31355ddb5",
   "metadata": {},
   "outputs": [
    {
     "data": {
      "text/plain": [
       "666"
      ]
     },
     "execution_count": 11,
     "metadata": {},
     "output_type": "execute_result"
    }
   ],
   "source": [
    "len(split_dataset[\"target_train\"].dropna())"
   ]
  },
  {
   "cell_type": "code",
   "execution_count": null,
   "id": "cac0335a-b35a-45b3-b7fd-757b2c2cebcb",
   "metadata": {},
   "outputs": [],
   "source": []
  }
 ],
 "metadata": {
  "kernelspec": {
   "display_name": "Modelops env",
   "language": "python",
   "name": "modelops"
  },
  "language_info": {
   "codemirror_mode": {
    "name": "ipython",
    "version": 3
   },
   "file_extension": ".py",
   "mimetype": "text/x-python",
   "name": "python",
   "nbconvert_exporter": "python",
   "pygments_lexer": "ipython3",
   "version": "3.10.5"
  }
 },
 "nbformat": 4,
 "nbformat_minor": 5
}
