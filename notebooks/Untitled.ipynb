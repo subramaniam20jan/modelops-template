{
 "cells": [
  {
   "cell_type": "code",
   "execution_count": 2,
   "id": "fe85e09b-687f-42d5-8100-6b18dcaaa6f4",
   "metadata": {},
   "outputs": [],
   "source": [
    "import mlflow"
   ]
  },
  {
   "cell_type": "code",
   "execution_count": null,
   "id": "c327d65c-a839-4503-bc5c-37280f108be5",
   "metadata": {},
   "outputs": [],
   "source": []
  }
 ],
 "metadata": {
  "kernelspec": {
   "display_name": "Python in Docker",
   "language": "python",
   "name": "python_in_docker"
  },
  "language_info": {
   "codemirror_mode": {
    "name": "ipython",
    "version": 3
   },
   "file_extension": ".py",
   "mimetype": "text/x-python",
   "name": "python",
   "nbconvert_exporter": "python",
   "pygments_lexer": "ipython3",
   "version": "3.10.5"
  }
 },
 "nbformat": 4,
 "nbformat_minor": 5
}
