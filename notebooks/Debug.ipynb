{
 "cells": [
  {
   "cell_type": "code",
   "execution_count": 1,
   "id": "ecb5ae7b-27d7-4926-aaf8-1c055f29a3be",
   "metadata": {},
   "outputs": [],
   "source": [
    "# Add the root of the repo to the sys path\n",
    "import sys\n",
    "\n",
    "sys.path[0] = \"../\""
   ]
  },
  {
   "cell_type": "code",
   "execution_count": null,
   "id": "41ebb8dc-f78d-4f96-bf88-84a3e0ad289a",
   "metadata": {},
   "outputs": [],
   "source": [
    "from core.worker import get_feature_pipeline"
   ]
  }
 ],
 "metadata": {
  "kernelspec": {
   "display_name": "Python 3 (ipykernel)",
   "language": "python",
   "name": "python3"
  },
  "language_info": {
   "codemirror_mode": {
    "name": "ipython",
    "version": 3
   },
   "file_extension": ".py",
   "mimetype": "text/x-python",
   "name": "python",
   "nbconvert_exporter": "python",
   "pygments_lexer": "ipython3",
   "version": "3.10.5"
  }
 },
 "nbformat": 4,
 "nbformat_minor": 5
}
