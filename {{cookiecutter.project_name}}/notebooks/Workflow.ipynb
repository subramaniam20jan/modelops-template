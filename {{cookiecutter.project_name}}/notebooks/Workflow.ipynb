{
 "cells": [
  {
   "cell_type": "markdown",
   "id": "27cc8aee-bf78-47d9-b6cd-0be818d86f6c",
   "metadata": {},
   "source": [
    "# Run workflow using MLFlow\n",
    "\n",
    "The workflow consists of an ETL and a Train part."
   ]
  },
  {
   "cell_type": "code",
   "execution_count": 27,
   "id": "8110be91-359c-429d-b5a8-e77ce913a0e8",
   "metadata": {},
   "outputs": [],
   "source": [
    "# Add the root of the repo to the sys path\n",
    "import sys\n",
    "\n",
    "sys.path[0] = \"../\""
   ]
  },
  {
   "cell_type": "code",
   "execution_count": 28,
   "id": "355b835d-7f8d-47cd-b1af-e0caeadedd20",
   "metadata": {},
   "outputs": [],
   "source": [
    "import os\n",
    "import mlflow\n",
    "import core.mlflow_helper as mhelper\n",
    "from core.util import load_config\n",
    "from core.pandas_helper import load_pandas_df"
   ]
  },
  {
   "cell_type": "code",
   "execution_count": 29,
   "id": "45338529-ca15-4964-9746-6b5d259d8892",
   "metadata": {},
   "outputs": [],
   "source": [
    "# Setup the remote tracking server\n",
    "general_conf = load_config(\"../workflow_conf.yaml\", \"general\")\n",
    "mhelper.set_remote_tracking(general_conf[\"experiment_name\"])"
   ]
  },
  {
   "cell_type": "markdown",
   "id": "055698b9-80cc-4c4e-8bfd-b49e4c55ef10",
   "metadata": {},
   "source": [
    "### Run ETL"
   ]
  },
  {
   "cell_type": "code",
   "execution_count": 35,
   "id": "c7dc1d82-6dff-49f3-8488-c353a6ca13fa",
   "metadata": {
    "tags": []
   },
   "outputs": [
    {
     "name": "stderr",
     "output_type": "stream",
     "text": [
      "2022/08/01 14:04:27 INFO mlflow.projects.docker: === Building docker image mlops_project:9fb140a ===\n",
      "2022/08/01 14:04:38 INFO mlflow.projects.utils: === Created directory /tmp/tmpmrzouswr for downloading remote URIs passed to arguments of type 'path' ===\n",
      "2022/08/01 14:04:38 INFO mlflow.projects.backend.local: === Running command 'docker run --rm -v /home/subu/.aws:/.aws -e MLFLOW_RUN_ID=5728a35bf0a74bcbbf835e6f27fd502f -e MLFLOW_TRACKING_URI=http://10.100.55.198:5000 -e MLFLOW_EXPERIMENT_ID=5 docker.io/library/mlops_project:9fb140a python workflow_runner.py etl --no-run-on-delta --config-grid-index -1' in run with ID '5728a35bf0a74bcbbf835e6f27fd502f' === \n"
     ]
    },
    {
     "name": "stdout",
     "output_type": "stream",
     "text": [
      "Getting all URLs\n",
      "Loading URL content\n"
     ]
    },
    {
     "name": "stderr",
     "output_type": "stream",
     "text": [
      "100%|██████████| 116/116 [00:00<00:00, 334621.23it/s]\n",
      "100%|██████████| 116/116 [00:19<00:00,  5.98it/s]\n",
      "[2022-08-01 14:05:00,896] [INFO] [botocore.credentials]: Found credentials in shared credentials file: ~/.aws/credentials\n",
      "2022/08/01 14:05:01 INFO mlflow.projects: === Run (ID '5728a35bf0a74bcbbf835e6f27fd502f') succeeded ===\n"
     ]
    },
    {
     "data": {
      "text/plain": [
       "<mlflow.projects.submitted_run.LocalSubmittedRun at 0x7f9c07280280>"
      ]
     },
     "execution_count": 35,
     "metadata": {},
     "output_type": "execute_result"
    }
   ],
   "source": [
    "mlflow.run(\n",
    "    \"../\",\n",
    "    entry_point=\"etl\",\n",
    "    env_manager=\"local\",\n",
    "    parameters={},\n",
    ")"
   ]
  },
  {
   "cell_type": "markdown",
   "id": "4ac5d6d4-7ecc-42d8-87e2-21b190cb6439",
   "metadata": {},
   "source": [
    "### Run training"
   ]
  },
  {
   "cell_type": "code",
   "execution_count": 36,
   "id": "de0b06bf-e6df-446e-aab4-226b3bbf650c",
   "metadata": {},
   "outputs": [
    {
     "name": "stderr",
     "output_type": "stream",
     "text": [
      "2022/08/01 14:07:04 INFO mlflow.projects.docker: === Building docker image mlops_project:9fb140a ===\n",
      "2022/08/01 14:07:14 INFO mlflow.projects.utils: === Created directory /tmp/tmp38v_e3bh for downloading remote URIs passed to arguments of type 'path' ===\n",
      "2022/08/01 14:07:14 INFO mlflow.projects.backend.local: === Running command 'docker run --rm -v /home/subu/.aws:/.aws -e MLFLOW_RUN_ID=52b907aeac10486cbdb860feb3fed4e4 -e MLFLOW_TRACKING_URI=http://10.100.55.198:5000 -e MLFLOW_EXPERIMENT_ID=5 docker.io/library/mlops_project:9fb140a python workflow_runner.py train 5728a35bf0a74bcbbf835e6f27fd502f --config-grid-index -1' in run with ID '52b907aeac10486cbdb860feb3fed4e4' === \n",
      "[2022-08-01 14:07:17,164] [INFO] [core.worker]: Starting MLFlow experiment for training\n",
      "[2022-08-01 14:07:17,640] [INFO] [botocore.credentials]: Found credentials in shared credentials file: ~/.aws/credentials\n",
      "2022/08/01 14:07:18 WARNING mlflow.utils.autologging_utils: MLflow autologging encountered a warning: \"/usr/local/lib/python3.10/site-packages/mlflow/models/signature.py:129: UserWarning: Hint: Inferred schema contains integer column(s). Integer columns in Python cannot represent missing values. If your input data contains missing values at inference time, it will be encoded as floats and will cause a schema enforcement error. The best way to avoid this problem is to infer the model schema based on a realistic data sample (training dataset) that includes missing values. Alternatively, you can declare integer columns as doubles (float64) whenever these columns may have missing values. See `Handling Integers With Missing Values <https://www.mlflow.org/docs/latest/models.html#handling-integers-with-missing-values>`_ for more details.\"\n",
      "2022/08/01 14:07:23 INFO mlflow.projects: === Run (ID '52b907aeac10486cbdb860feb3fed4e4') succeeded ===\n"
     ]
    },
    {
     "data": {
      "text/plain": [
       "<mlflow.projects.submitted_run.LocalSubmittedRun at 0x7f9c0800a890>"
      ]
     },
     "execution_count": 36,
     "metadata": {},
     "output_type": "execute_result"
    }
   ],
   "source": [
    "mlflow.run(\n",
    "    \"../\",\n",
    "    entry_point=\"train\",\n",
    "    parameters={\"input_data_run_id_arg\":\"5728a35bf0a74bcbbf835e6f27fd502f\"},\n",
    ")"
   ]
  },
  {
   "cell_type": "code",
   "execution_count": null,
   "id": "d994c7c8-ead7-4c10-b016-fbb929da2064",
   "metadata": {},
   "outputs": [],
   "source": []
  }
 ],
 "metadata": {
  "kernelspec": {
   "display_name": "Modelops env",
   "language": "python",
   "name": "modelops"
  },
  "language_info": {
   "codemirror_mode": {
    "name": "ipython",
    "version": 3
   },
   "file_extension": ".py",
   "mimetype": "text/x-python",
   "name": "python",
   "nbconvert_exporter": "python",
   "pygments_lexer": "ipython3",
   "version": "3.10.5"
  }
 },
 "nbformat": 4,
 "nbformat_minor": 5
}
