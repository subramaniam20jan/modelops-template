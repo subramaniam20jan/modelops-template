{
 "cells": [
  {
   "cell_type": "markdown",
   "id": "27cc8aee-bf78-47d9-b6cd-0be818d86f6c",
   "metadata": {},
   "source": [
    "# Run workflow using MLFlow\n",
    "\n",
    "The workflow consists of an ETL and a Train part."
   ]
  },
  {
   "cell_type": "code",
   "execution_count": 1,
   "id": "8110be91-359c-429d-b5a8-e77ce913a0e8",
   "metadata": {},
   "outputs": [],
   "source": [
    "# Add the root of the repo to the sys path\n",
    "import sys\n",
    "\n",
    "sys.path[0] = \"../\""
   ]
  },
  {
   "cell_type": "code",
   "execution_count": 2,
   "id": "355b835d-7f8d-47cd-b1af-e0caeadedd20",
   "metadata": {},
   "outputs": [],
   "source": [
    "import os\n",
    "import mlflow\n",
    "import core.mlflow_helper as mhelper\n",
    "from core.util import load_config\n",
    "from core.pandas_helper import load_pandas_df"
   ]
  },
  {
   "cell_type": "code",
   "execution_count": 3,
   "id": "45338529-ca15-4964-9746-6b5d259d8892",
   "metadata": {},
   "outputs": [],
   "source": [
    "# Setup the remote tracking server\n",
    "general_conf = load_config(\"../workflow_conf.yaml\", \"general\")\n",
    "mhelper.set_remote_tracking(general_conf[\"experiment_name\"])"
   ]
  },
  {
   "cell_type": "markdown",
   "id": "055698b9-80cc-4c4e-8bfd-b49e4c55ef10",
   "metadata": {},
   "source": [
    "### Run ETL"
   ]
  },
  {
   "cell_type": "code",
   "execution_count": 5,
   "id": "c7dc1d82-6dff-49f3-8488-c353a6ca13fa",
   "metadata": {
    "tags": []
   },
   "outputs": [
    {
     "name": "stderr",
     "output_type": "stream",
     "text": [
      "2022/08/04 06:14:20 INFO mlflow.projects.docker: === Building docker image bolig_market ===\n",
      "2022/08/04 06:14:31 INFO mlflow.projects.utils: === Created directory /tmp/tmpor7_5viz for downloading remote URIs passed to arguments of type 'path' ===\n",
      "2022/08/04 06:14:31 INFO mlflow.projects.backend.local: === Running command 'docker run --rm -v /home/subu/.aws:/.aws -e MLFLOW_RUN_ID=dafdd3618c81490d8a55d027a219aa26 -e MLFLOW_TRACKING_URI=http://10.100.55.198:5000 -e MLFLOW_EXPERIMENT_ID=5 docker.io/library/bolig_market:latest python workflow_runner.py etl --no-run-on-delta --config-grid-index -1' in run with ID 'dafdd3618c81490d8a55d027a219aa26' === \n"
     ]
    },
    {
     "name": "stdout",
     "output_type": "stream",
     "text": [
      "Getting all URLs\n",
      "Loading URL content\n"
     ]
    },
    {
     "name": "stderr",
     "output_type": "stream",
     "text": [
      "100%|██████████| 116/116 [00:00<00:00, 347279.99it/s]\n",
      "100%|██████████| 116/116 [01:33<00:00,  1.24it/s]\n",
      "[2022-08-04 06:16:10,533] [INFO] [botocore.credentials]: Found credentials in shared credentials file: ~/.aws/credentials\n"
     ]
    },
    {
     "name": "stdout",
     "output_type": "stream",
     "text": [
      "Error occured in URL https://www.boligsiden.dk/postnummer/1500/solgte/ejerlejlighed?sortAscending=true&registrationTypes=normal&areaMin=20&areaMax=30&yearSoldFrom=1994&yearSoldTo=1995\n",
      "Error occured in URL https://www.boligsiden.dk/postnummer/1500/solgte/ejerlejlighed?sortAscending=true&registrationTypes=normal&areaMin=30&areaMax=40&yearSoldFrom=2003&yearSoldTo=2004\n"
     ]
    },
    {
     "name": "stderr",
     "output_type": "stream",
     "text": [
      "2022/08/04 06:16:11 INFO mlflow.projects: === Run (ID 'dafdd3618c81490d8a55d027a219aa26') succeeded ===\n"
     ]
    },
    {
     "data": {
      "text/plain": [
       "<mlflow.projects.submitted_run.LocalSubmittedRun at 0x7f9cc29aad70>"
      ]
     },
     "execution_count": 5,
     "metadata": {},
     "output_type": "execute_result"
    }
   ],
   "source": [
    "mlflow.run(\n",
    "    \"../\",\n",
    "    entry_point=\"etl\",\n",
    "    env_manager=\"local\",\n",
    "    parameters={},\n",
    ")"
   ]
  },
  {
   "cell_type": "markdown",
   "id": "4ac5d6d4-7ecc-42d8-87e2-21b190cb6439",
   "metadata": {},
   "source": [
    "### Run training"
   ]
  },
  {
   "cell_type": "code",
   "execution_count": 6,
   "id": "de0b06bf-e6df-446e-aab4-226b3bbf650c",
   "metadata": {},
   "outputs": [
    {
     "name": "stderr",
     "output_type": "stream",
     "text": [
      "2022/08/04 06:21:38 INFO mlflow.projects.docker: === Building docker image bolig_market ===\n",
      "2022/08/04 06:21:49 INFO mlflow.projects.utils: === Created directory /tmp/tmpdvebfq6n for downloading remote URIs passed to arguments of type 'path' ===\n",
      "2022/08/04 06:21:49 INFO mlflow.projects.backend.local: === Running command 'docker run --rm -v /home/subu/.aws:/.aws -e MLFLOW_RUN_ID=02c1d441233e4a449a470c27707daa75 -e MLFLOW_TRACKING_URI=http://10.100.55.198:5000 -e MLFLOW_EXPERIMENT_ID=5 docker.io/library/bolig_market:latest python workflow_runner.py train dafdd3618c81490d8a55d027a219aa26 --config-grid-index -1' in run with ID '02c1d441233e4a449a470c27707daa75' === \n",
      "[2022-08-04 06:21:53,043] [INFO] [core.worker]: Starting MLFlow experiment for training\n",
      "[2022-08-04 06:21:53,845] [INFO] [botocore.credentials]: Found credentials in shared credentials file: ~/.aws/credentials\n",
      "2022/08/04 06:21:54 WARNING mlflow.utils.autologging_utils: MLflow autologging encountered a warning: \"/usr/local/lib/python3.10/site-packages/mlflow/models/signature.py:129: UserWarning: Hint: Inferred schema contains integer column(s). Integer columns in Python cannot represent missing values. If your input data contains missing values at inference time, it will be encoded as floats and will cause a schema enforcement error. The best way to avoid this problem is to infer the model schema based on a realistic data sample (training dataset) that includes missing values. Alternatively, you can declare integer columns as doubles (float64) whenever these columns may have missing values. See `Handling Integers With Missing Values <https://www.mlflow.org/docs/latest/models.html#handling-integers-with-missing-values>`_ for more details.\"\n",
      "2022/08/04 06:22:01 INFO mlflow.projects: === Run (ID '02c1d441233e4a449a470c27707daa75') succeeded ===\n"
     ]
    },
    {
     "data": {
      "text/plain": [
       "<mlflow.projects.submitted_run.LocalSubmittedRun at 0x7f9cc29aae60>"
      ]
     },
     "execution_count": 6,
     "metadata": {},
     "output_type": "execute_result"
    }
   ],
   "source": [
    "mlflow.run(\n",
    "    \"../\",\n",
    "    entry_point=\"train\",\n",
    "    parameters={\"input_data_run_id_arg\":\"dafdd3618c81490d8a55d027a219aa26\"},\n",
    ")"
   ]
  },
  {
   "cell_type": "markdown",
   "id": "7f936783-e6d7-4509-9683-d8204ba9ec6b",
   "metadata": {
    "tags": []
   },
   "source": [
    "### Scoring"
   ]
  },
  {
   "cell_type": "code",
   "execution_count": 19,
   "id": "a3832b27-9782-49bc-9669-3a51a283eb4c",
   "metadata": {},
   "outputs": [
    {
     "name": "stderr",
     "output_type": "stream",
     "text": [
      "2022/08/04 07:23:06 INFO mlflow.projects.docker: === Building docker image bolig_market ===\n",
      "2022/08/04 07:23:17 INFO mlflow.projects.utils: === Created directory /tmp/tmpy3popnz_ for downloading remote URIs passed to arguments of type 'path' ===\n",
      "2022/08/04 07:23:17 INFO mlflow.projects.backend.local: === Running command 'docker run --rm -v /home/subu/.aws:/.aws -e MLFLOW_RUN_ID=390d1371c689478e9c7f68d43c323b45 -e MLFLOW_TRACKING_URI=http://10.100.55.198:5000 -e MLFLOW_EXPERIMENT_ID=5 docker.io/library/bolig_market:latest python workflow_runner.py predict dafdd3618c81490d8a55d027a219aa26 02c1d441233e4a449a470c27707daa75' in run with ID '390d1371c689478e9c7f68d43c323b45' === \n",
      "2022/08/04 07:23:22 INFO mlflow.projects: === Run (ID '390d1371c689478e9c7f68d43c323b45') succeeded ===\n"
     ]
    },
    {
     "data": {
      "text/plain": [
       "<mlflow.projects.submitted_run.LocalSubmittedRun at 0x7f3fdb9ddb10>"
      ]
     },
     "execution_count": 19,
     "metadata": {},
     "output_type": "execute_result"
    }
   ],
   "source": [
    "mlflow.run(\n",
    "    \"../\",\n",
    "    entry_point=\"predict\",\n",
    "    parameters={\n",
    "        \"input_data_run_id_arg\":\"dafdd3618c81490d8a55d027a219aa26\",\n",
    "        \"model_run_id_arg\": \"02c1d441233e4a449a470c27707daa75\"},\n",
    ")"
   ]
  },
  {
   "cell_type": "code",
   "execution_count": 20,
   "id": "4ced462f-1fcc-46e7-b9a6-5db29fe59020",
   "metadata": {},
   "outputs": [
    {
     "data": {
      "text/html": [
       "<div>\n",
       "<style scoped>\n",
       "    .dataframe tbody tr th:only-of-type {\n",
       "        vertical-align: middle;\n",
       "    }\n",
       "\n",
       "    .dataframe tbody tr th {\n",
       "        vertical-align: top;\n",
       "    }\n",
       "\n",
       "    .dataframe thead th {\n",
       "        text-align: right;\n",
       "    }\n",
       "</style>\n",
       "<table border=\"1\" class=\"dataframe\">\n",
       "  <thead>\n",
       "    <tr style=\"text-align: right;\">\n",
       "      <th></th>\n",
       "      <th>prediction</th>\n",
       "    </tr>\n",
       "  </thead>\n",
       "  <tbody>\n",
       "    <tr>\n",
       "      <th>0</th>\n",
       "      <td>19273.071187</td>\n",
       "    </tr>\n",
       "    <tr>\n",
       "      <th>1</th>\n",
       "      <td>19273.071187</td>\n",
       "    </tr>\n",
       "    <tr>\n",
       "      <th>2</th>\n",
       "      <td>19273.071187</td>\n",
       "    </tr>\n",
       "    <tr>\n",
       "      <th>3</th>\n",
       "      <td>26151.157935</td>\n",
       "    </tr>\n",
       "    <tr>\n",
       "      <th>4</th>\n",
       "      <td>26151.157935</td>\n",
       "    </tr>\n",
       "    <tr>\n",
       "      <th>...</th>\n",
       "      <td>...</td>\n",
       "    </tr>\n",
       "    <tr>\n",
       "      <th>921</th>\n",
       "      <td>21081.307287</td>\n",
       "    </tr>\n",
       "    <tr>\n",
       "      <th>922</th>\n",
       "      <td>21081.307287</td>\n",
       "    </tr>\n",
       "    <tr>\n",
       "      <th>923</th>\n",
       "      <td>26421.855311</td>\n",
       "    </tr>\n",
       "    <tr>\n",
       "      <th>924</th>\n",
       "      <td>26421.855311</td>\n",
       "    </tr>\n",
       "    <tr>\n",
       "      <th>925</th>\n",
       "      <td>26421.855311</td>\n",
       "    </tr>\n",
       "  </tbody>\n",
       "</table>\n",
       "<p>926 rows × 1 columns</p>\n",
       "</div>"
      ],
      "text/plain": [
       "       prediction\n",
       "0    19273.071187\n",
       "1    19273.071187\n",
       "2    19273.071187\n",
       "3    26151.157935\n",
       "4    26151.157935\n",
       "..            ...\n",
       "921  21081.307287\n",
       "922  21081.307287\n",
       "923  26421.855311\n",
       "924  26421.855311\n",
       "925  26421.855311\n",
       "\n",
       "[926 rows x 1 columns]"
      ]
     },
     "execution_count": 20,
     "metadata": {},
     "output_type": "execute_result"
    }
   ],
   "source": [
    "load_pandas_df(\"390d1371c689478e9c7f68d43c323b45\")"
   ]
  },
  {
   "cell_type": "markdown",
   "id": "eb9146a1-c774-4066-bede-6f9166a8ec78",
   "metadata": {},
   "source": [
    "### Get model object"
   ]
  },
  {
   "cell_type": "code",
   "execution_count": 21,
   "id": "c77bee50-e0f8-42eb-9738-010d0088b5ff",
   "metadata": {},
   "outputs": [
    {
     "data": {
      "text/html": [
       "<style>#sk-container-id-2 {color: black;background-color: white;}#sk-container-id-2 pre{padding: 0;}#sk-container-id-2 div.sk-toggleable {background-color: white;}#sk-container-id-2 label.sk-toggleable__label {cursor: pointer;display: block;width: 100%;margin-bottom: 0;padding: 0.3em;box-sizing: border-box;text-align: center;}#sk-container-id-2 label.sk-toggleable__label-arrow:before {content: \"▸\";float: left;margin-right: 0.25em;color: #696969;}#sk-container-id-2 label.sk-toggleable__label-arrow:hover:before {color: black;}#sk-container-id-2 div.sk-estimator:hover label.sk-toggleable__label-arrow:before {color: black;}#sk-container-id-2 div.sk-toggleable__content {max-height: 0;max-width: 0;overflow: hidden;text-align: left;background-color: #f0f8ff;}#sk-container-id-2 div.sk-toggleable__content pre {margin: 0.2em;color: black;border-radius: 0.25em;background-color: #f0f8ff;}#sk-container-id-2 input.sk-toggleable__control:checked~div.sk-toggleable__content {max-height: 200px;max-width: 100%;overflow: auto;}#sk-container-id-2 input.sk-toggleable__control:checked~label.sk-toggleable__label-arrow:before {content: \"▾\";}#sk-container-id-2 div.sk-estimator input.sk-toggleable__control:checked~label.sk-toggleable__label {background-color: #d4ebff;}#sk-container-id-2 div.sk-label input.sk-toggleable__control:checked~label.sk-toggleable__label {background-color: #d4ebff;}#sk-container-id-2 input.sk-hidden--visually {border: 0;clip: rect(1px 1px 1px 1px);clip: rect(1px, 1px, 1px, 1px);height: 1px;margin: -1px;overflow: hidden;padding: 0;position: absolute;width: 1px;}#sk-container-id-2 div.sk-estimator {font-family: monospace;background-color: #f0f8ff;border: 1px dotted black;border-radius: 0.25em;box-sizing: border-box;margin-bottom: 0.5em;}#sk-container-id-2 div.sk-estimator:hover {background-color: #d4ebff;}#sk-container-id-2 div.sk-parallel-item::after {content: \"\";width: 100%;border-bottom: 1px solid gray;flex-grow: 1;}#sk-container-id-2 div.sk-label:hover label.sk-toggleable__label {background-color: #d4ebff;}#sk-container-id-2 div.sk-serial::before {content: \"\";position: absolute;border-left: 1px solid gray;box-sizing: border-box;top: 0;bottom: 0;left: 50%;z-index: 0;}#sk-container-id-2 div.sk-serial {display: flex;flex-direction: column;align-items: center;background-color: white;padding-right: 0.2em;padding-left: 0.2em;position: relative;}#sk-container-id-2 div.sk-item {position: relative;z-index: 1;}#sk-container-id-2 div.sk-parallel {display: flex;align-items: stretch;justify-content: center;background-color: white;position: relative;}#sk-container-id-2 div.sk-item::before, #sk-container-id-2 div.sk-parallel-item::before {content: \"\";position: absolute;border-left: 1px solid gray;box-sizing: border-box;top: 0;bottom: 0;left: 50%;z-index: -1;}#sk-container-id-2 div.sk-parallel-item {display: flex;flex-direction: column;z-index: 1;position: relative;background-color: white;}#sk-container-id-2 div.sk-parallel-item:first-child::after {align-self: flex-end;width: 50%;}#sk-container-id-2 div.sk-parallel-item:last-child::after {align-self: flex-start;width: 50%;}#sk-container-id-2 div.sk-parallel-item:only-child::after {width: 0;}#sk-container-id-2 div.sk-dashed-wrapped {border: 1px dashed gray;margin: 0 0.4em 0.5em 0.4em;box-sizing: border-box;padding-bottom: 0.4em;background-color: white;}#sk-container-id-2 div.sk-label label {font-family: monospace;font-weight: bold;display: inline-block;line-height: 1.2em;}#sk-container-id-2 div.sk-label-container {text-align: center;}#sk-container-id-2 div.sk-container {/* jupyter's `normalize.less` sets `[hidden] { display: none; }` but bootstrap.min.css set `[hidden] { display: none !important; }` so we also need the `!important` here to be able to override the default hidden behavior on the sphinx rendered scikit-learn.org. See: https://github.com/scikit-learn/scikit-learn/issues/21755 */display: inline-block !important;position: relative;}#sk-container-id-2 div.sk-text-repr-fallback {display: none;}</style><div id=\"sk-container-id-2\" class=\"sk-top-container\"><div class=\"sk-text-repr-fallback\"><pre>Pipeline(steps=[(&#x27;Imputer&#x27;, SimpleImputer()), (&#x27;Lasso&#x27;, Lasso())])</pre><b>In a Jupyter environment, please rerun this cell to show the HTML representation or trust the notebook. <br />On GitHub, the HTML representation is unable to render, please try loading this page with nbviewer.org.</b></div><div class=\"sk-container\" hidden><div class=\"sk-item sk-dashed-wrapped\"><div class=\"sk-label-container\"><div class=\"sk-label sk-toggleable\"><input class=\"sk-toggleable__control sk-hidden--visually\" id=\"sk-estimator-id-4\" type=\"checkbox\" ><label for=\"sk-estimator-id-4\" class=\"sk-toggleable__label sk-toggleable__label-arrow\">Pipeline</label><div class=\"sk-toggleable__content\"><pre>Pipeline(steps=[(&#x27;Imputer&#x27;, SimpleImputer()), (&#x27;Lasso&#x27;, Lasso())])</pre></div></div></div><div class=\"sk-serial\"><div class=\"sk-item\"><div class=\"sk-estimator sk-toggleable\"><input class=\"sk-toggleable__control sk-hidden--visually\" id=\"sk-estimator-id-5\" type=\"checkbox\" ><label for=\"sk-estimator-id-5\" class=\"sk-toggleable__label sk-toggleable__label-arrow\">SimpleImputer</label><div class=\"sk-toggleable__content\"><pre>SimpleImputer()</pre></div></div></div><div class=\"sk-item\"><div class=\"sk-estimator sk-toggleable\"><input class=\"sk-toggleable__control sk-hidden--visually\" id=\"sk-estimator-id-6\" type=\"checkbox\" ><label for=\"sk-estimator-id-6\" class=\"sk-toggleable__label sk-toggleable__label-arrow\">Lasso</label><div class=\"sk-toggleable__content\"><pre>Lasso()</pre></div></div></div></div></div></div></div>"
      ],
      "text/plain": [
       "Pipeline(steps=[('Imputer', SimpleImputer()), ('Lasso', Lasso())])"
      ]
     },
     "execution_count": 21,
     "metadata": {},
     "output_type": "execute_result"
    }
   ],
   "source": [
    "run_id = \"02c1d441233e4a449a470c27707daa75\"\n",
    "logged_model = f\"runs:/{run_id}/estimator\"\n",
    "model = mlflow.sklearn.load_model(logged_model)\n",
    "model"
   ]
  },
  {
   "cell_type": "code",
   "execution_count": null,
   "id": "89773785-f0c6-4515-a4f0-d13a23e19123",
   "metadata": {},
   "outputs": [],
   "source": []
  }
 ],
 "metadata": {
  "kernelspec": {
   "display_name": "bolig_market env",
   "language": "python",
   "name": "bolig_market"
  },
  "language_info": {
   "codemirror_mode": {
    "name": "ipython",
    "version": 3
   },
   "file_extension": ".py",
   "mimetype": "text/x-python",
   "name": "python",
   "nbconvert_exporter": "python",
   "pygments_lexer": "ipython3",
   "version": "3.10.5"
  }
 },
 "nbformat": 4,
 "nbformat_minor": 5
}
